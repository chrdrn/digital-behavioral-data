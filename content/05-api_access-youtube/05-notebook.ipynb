{
 "cells": [
  {
   "cell_type": "markdown",
   "metadata": {},
   "source": [
    "Background\n",
    "\n",
    "Practical application of the YouTube Data Tool (YTDT) using the example of Mai Thi Nguyen-Kim  ( {{< fa brands twitter >}} | {{< fa brands instagram >}} ) and her {{< fa brands youtube >}}-Channel maiLab.\n",
    "\n",
    "Assignments\n",
    "\n",
    "Use the  Channel Search Function of the YTDT to find the correct channel ID for {{< fa brands youtube >}}-Channel maiLab. Therefore, enter \"mailab\" in the field search query and download the results as .csv. Open the file and search extract the correct channel ID. If in doubt, use Channel Info function to check if the selected ID matches the channel description. "
   ]
  },
  {
   "cell_type": "code",
   "execution_count": null,
   "metadata": {},
   "outputs": [],
   "source": [
    "library(tidyverse) # Preparation of the data\n",
    "library(quanteda) # Text mining\n",
    "library(quanteda.textstats) # Text statistics\n",
    "library(quanteda.textplots) # Visualisation of text data\n",
    "library(readr) # Data import\n",
    "library(here)\n",
    "library(sjmisc)\n",
    "library(lubridate)\n",
    "library(ggthemes)\n",
    "library(ggpubr)"
   ]
  },
  {
   "cell_type": "code",
   "execution_count": null,
   "metadata": {},
   "outputs": [],
   "source": []
  },
  {
   "cell_type": "code",
   "execution_count": null,
   "metadata": {},
   "outputs": [],
   "source": [
    "channel_search <- read_csv(\n",
    "  here(\n",
    "    \"content/05-api_access-youtube/data/channelsearch_channels50_2022_11_16-19_45_44.csv\"))\n",
    "\n",
    "# Preview\n",
    "channel_search %>% glimpse"
   ]
  }
 ],
 "metadata": {
  "kernelspec": {
   "display_name": "Python 3.11.0 64-bit",
   "language": "python",
   "name": "python3"
  },
  "language_info": {
   "name": "python",
   "version": "3.11.0"
  },
  "orig_nbformat": 4,
  "vscode": {
   "interpreter": {
    "hash": "c261aea317cc0286b3b3261fbba9abdec21eaa57589985bb7a274bf54d6cc0a7"
   }
  }
 },
 "nbformat": 4,
 "nbformat_minor": 2
}
