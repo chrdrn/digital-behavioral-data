{
  "nbformat": 4,
  "nbformat_minor": 0,
  "metadata": {
    "colab": {
      "provenance": [],
      "authorship_tag": "ABX9TyOFuiyx46An803RFBevFaBN",
      "include_colab_link": true
    },
    "kernelspec": {
      "name": "ir",
      "display_name": "R"
    },
    "language_info": {
      "name": "R"
    }
  },
  "cells": [
    {
      "cell_type": "markdown",
      "metadata": {
        "id": "view-in-github",
        "colab_type": "text"
      },
      "source": [
        "<a href=\"https://colab.research.google.com/github/chrdrn/digital-behavioral-data/blob/main/session_05-showcase_youtube.ipynb\" target=\"_parent\"><img src=\"https://colab.research.google.com/assets/colab-badge.svg\" alt=\"Open In Colab\"/></a>"
      ]
    },
    {
      "cell_type": "markdown",
      "source": [
        "# Background\n",
        "Practical application of the [YouTube Data Tool (YTDT)](https://tools.digitalmethods.net/netvizz/youtube/) using the example of Mai Thi Nguyen-Kim ( [<img src=\"https://raw.githubusercontent.com/FortAwesome/Font-Awesome/6.x/svgs/brands/twitter.svg\" width=\"15\" height=\"15\">](https://twitter.com/maithi_nk) | [<img src=\"https://raw.githubusercontent.com/FortAwesome/Font-Awesome/6.x/svgs/brands/instagram.svg\" width=\"15\" height=\"15\">](https://twitter.com/maithi_nk) ) and her <img src=\"https://raw.githubusercontent.com/FortAwesome/Font-Awesome/6.x/svgs/brands/youtube.svg\" width=\"15\" height=\"15\"> Channel [maiLab](https://www.youtube.com/c/maiLab)."
      ],
      "metadata": {
        "id": "6Zw3Q-FA-FME"
      }
    },
    {
      "cell_type": "markdown",
      "source": [
        "# Excercise 1\n",
        "\n",
        "* Use the [`Channel Search`](https://tools.digitalmethods.net/netvizz/youtube/mod_channels_search.php) site/function of the `YTDT` to find the (correct) `channel ID` for the <img src=\"https://raw.githubusercontent.com/FortAwesome/Font-Awesome/6.x/svgs/brands/youtube.svg\" width=\"15\" height=\"15\"> Channel [maiLab](https://www.youtube.com/c/maiLab). \n",
        "* Therefore, enter \"*maiLab*\" in the field `Search query` and download the results as `.csv`. \n",
        "* Open the file and search extract the correct channel ID.\\\n",
        "  *Hint:*  If in doubt, use [`Channel Info`](https://tools.digitalmethods.net/netvizz/youtube/mod_channel_info.php) function to check if the selected ID matches the channel description."
      ],
      "metadata": {
        "id": "eTTlrhjEBgQ5"
      }
    },
    {
      "cell_type": "code",
      "source": [
        "# Load packages\n",
        "library(readr)\n",
        "library(tidyverse)\n",
        "\n",
        "# Import data\n",
        "channel_list <- read_csv(\"data/channelsearch_channels50_2022_11_17-09_54_22.csv\")\n",
        "\n",
        "# Preview data \n",
        "channel_list %>% glimpse()"
      ],
      "metadata": {
        "id": "EILQz5LuBwGP"
      },
      "execution_count": null,
      "outputs": []
    },
    {
      "cell_type": "code",
      "source": [
        "# Get channel description with R\n",
        "channel_list %>%\n",
        "  filter(title == \"maiLab\") %>%\n",
        "  select(id, title, description)"
      ],
      "metadata": {
        "id": "iN06MMJfEVym"
      },
      "execution_count": null,
      "outputs": []
    },
    {
      "cell_type": "markdown",
      "source": [
        "# Exercise 2\n",
        "\n",
        "\n",
        "*    With help of the [`Video List`](https://tools.digitalmethods.net/netvizz/youtube/mod_videos_list.php) site/function of the `YTDT`, get a list of all published videos of the channel `maiLab`.  \n",
        "*   Therefore, use the extracted `channel id` and download the results as `.csv`.\n",
        "* Import and preview the data. \n",
        "\n"
      ],
      "metadata": {
        "id": "hnFguFCqFOS1"
      }
    },
    {
      "cell_type": "code",
      "source": [
        "# Import data: video list\n",
        "video_list <- read_csv(\"data/videolist_channel186_2022_11_17-10_20_11.csv\")\n",
        "\n",
        "# Preview data \n",
        "video_list %>% glimpse()"
      ],
      "metadata": {
        "id": "EtpMN5hgGOnO"
      },
      "execution_count": null,
      "outputs": []
    },
    {
      "cell_type": "markdown",
      "source": [
        "# Excercise 3\n",
        "\n",
        "*   Perform an explorative data analysis"
      ],
      "metadata": {
        "id": "xoxxkYGIHQ9N"
      }
    },
    {
      "cell_type": "markdown",
      "source": [
        "## Video uploads over time"
      ],
      "metadata": {
        "id": "LI5oqYXCRHVE"
      }
    },
    {
      "cell_type": "code",
      "source": [
        "# Load additional packages\n",
        "library(lubridate)\n",
        "library(sjPlot)\n",
        "\n",
        "# Display \n",
        "video_list %>% \n",
        "  mutate(year  = as.factor(year(publishedAt))) %>% \n",
        "  plot_frq(\n",
        "    year,\n",
        "    title = \"Video uploads on `maiLab` by year\")"
      ],
      "metadata": {
        "id": "GKIk5bkuJwN9"
      },
      "execution_count": null,
      "outputs": []
    },
    {
      "cell_type": "markdown",
      "source": [
        "## Different location parameters\n",
        "\n"
      ],
      "metadata": {
        "id": "rx2n7maNRNgI"
      }
    },
    {
      "cell_type": "markdown",
      "source": [
        "### Basic descriptive statistics"
      ],
      "metadata": {
        "id": "rSCsZ7C8UWtm"
      }
    },
    {
      "cell_type": "code",
      "source": [
        "# Load additional packages\n",
        "library(sjmisc) \n",
        "\n",
        "# Get distribution parameters for selected variables\n",
        "video_list %>% \n",
        "  select(durationSec, viewCount, likeCount, favoriteCount, commentCount) %>% \n",
        "  descr()  "
      ],
      "metadata": {
        "id": "JlTaAJMhRRmg"
      },
      "execution_count": null,
      "outputs": []
    },
    {
      "cell_type": "markdown",
      "source": [
        "### More detailed distribution for each variable"
      ],
      "metadata": {
        "id": "iAZ4YNpCRUSY"
      }
    },
    {
      "cell_type": "code",
      "source": [
        "video_list %>% \n",
        "  plot_frq(durationSec, viewCount, likeCount, commentCount, type = \"density\")"
      ],
      "metadata": {
        "id": "j-1Ya8M5RZ1d"
      },
      "execution_count": null,
      "outputs": []
    },
    {
      "cell_type": "markdown",
      "source": [
        "## In-depth analysis\n",
        "Based on the findings of the previous section, let us take a closer look. Interestingly, although most of the varialbes have a left-sloping distribution, there are isolated outliers on the \"right\" edge. \n",
        "\n",
        "Therefore, the next goal is to find out which video(s) they are.  "
      ],
      "metadata": {
        "id": "vxVyOzLYUaym"
      }
    },
    {
      "cell_type": "markdown",
      "source": [
        "### Top 5 videos with the **highest view count**"
      ],
      "metadata": {
        "id": "B5zfm9wQXHs5"
      }
    },
    {
      "cell_type": "code",
      "source": [
        "video_list %>% \n",
        "  arrange(-viewCount) %>% \n",
        "  select(videoTitle, publishedAt, viewCount:commentCount) %>% \n",
        "  head()"
      ],
      "metadata": {
        "id": "1dQUTDw-V_BH",
        "outputId": "5cc96aea-c5c9-41ac-d74c-5fe5a2db7031",
        "colab": {
          "base_uri": "https://localhost:8080/",
          "height": 97
        }
      },
      "execution_count": 1,
      "outputs": [
        {
          "output_type": "error",
          "ename": "ERROR",
          "evalue": "ignored",
          "traceback": [
            "Error in video_list %>% arrange(-viewCount) %>% select(videoTitle, publishedAt, : could not find function \"%>%\"\nTraceback:\n"
          ]
        }
      ]
    },
    {
      "cell_type": "markdown",
      "source": [
        "### Top 5 videos with the **highest comment count**"
      ],
      "metadata": {
        "id": "YSz7tIGmXUor"
      }
    },
    {
      "cell_type": "code",
      "source": [
        "video_list %>% \n",
        "  arrange(-commentCount) %>% \n",
        "  select(videoTitle, publishedAt, viewCount:commentCount) %>% \n",
        "  head()"
      ],
      "metadata": {
        "id": "vR-9AT66XYu3"
      },
      "execution_count": null,
      "outputs": []
    }
  ]
}